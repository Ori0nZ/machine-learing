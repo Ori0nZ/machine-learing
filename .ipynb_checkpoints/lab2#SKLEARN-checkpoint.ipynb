{
 "cells": [
  {
   "cell_type": "code",
   "execution_count": 3,
   "metadata": {},
   "outputs": [],
   "source": [
    "from sklearn.datasets import load_wine"
   ]
  },
  {
   "cell_type": "code",
   "execution_count": 34,
   "metadata": {},
   "outputs": [],
   "source": [
    "from sklearn.cluster import KMeans\n",
    "import matplotlib.pyplot as plt\n",
    "import numpy as np"
   ]
  },
  {
   "cell_type": "code",
   "execution_count": 9,
   "metadata": {},
   "outputs": [],
   "source": [
    "from sklearn.metrics import adjusted_rand_score"
   ]
  },
  {
   "cell_type": "code",
   "execution_count": 60,
   "metadata": {},
   "outputs": [
    {
     "name": "stdout",
     "output_type": "stream",
     "text": [
      "data\n",
      "target\n",
      "target_names\n",
      "DESCR\n",
      "feature_names\n"
     ]
    }
   ],
   "source": [
    "wine = load_wine()\n",
    "for key in wine:\n",
    "    print(key)"
   ]
  },
  {
   "cell_type": "code",
   "execution_count": 63,
   "metadata": {},
   "outputs": [
    {
     "name": "stdout",
     "output_type": "stream",
     "text": [
      "(178,) [[1.423e+01 1.710e+00 2.430e+00 ... 1.040e+00 3.920e+00 1.065e+03]\n",
      " [1.320e+01 1.780e+00 2.140e+00 ... 1.050e+00 3.400e+00 1.050e+03]\n",
      " [1.316e+01 2.360e+00 2.670e+00 ... 1.030e+00 3.170e+00 1.185e+03]\n",
      " ...\n",
      " [1.327e+01 4.280e+00 2.260e+00 ... 5.900e-01 1.560e+00 8.350e+02]\n",
      " [1.317e+01 2.590e+00 2.370e+00 ... 6.000e-01 1.620e+00 8.400e+02]\n",
      " [1.413e+01 4.100e+00 2.740e+00 ... 6.100e-01 1.600e+00 5.600e+02]]\n"
     ]
    }
   ],
   "source": [
    "X = wine.data[:,3]\n",
    "print(X.shape, wine.data)"
   ]
  },
  {
   "cell_type": "code",
   "execution_count": 43,
   "metadata": {},
   "outputs": [
    {
     "name": "stdout",
     "output_type": "stream",
     "text": [
      "[15.6 11.2 18.6 16.8 21.  15.2 14.6 17.6 14.  16.  18.  16.8 16.  11.4\n",
      " 12.  17.2 20.  20.  16.5 15.2 16.  18.6 16.6 17.8 20.  25.  16.1 17.\n",
      " 19.4 16.  22.5 19.1 17.2 19.5 19.  20.5 15.5 18.  15.5 13.2 16.2 18.8\n",
      " 15.  17.5 17.  18.9 16.  16.  18.8 17.4 12.4 17.2 14.  17.1 16.4 20.5\n",
      " 16.3 16.8 16.7 10.6 16.  16.8 18.  19.  19.  18.1 15.  19.6 17.  16.8\n",
      " 20.4 25.  24.  30.  21.  16.  16.  18.  14.8 23.  19.  18.8 24.  22.5\n",
      " 18.  18.  22.8 26.  21.6 23.6 18.5 22.  20.7 18.  18.  19.  21.5 16.\n",
      " 18.5 18.  17.5 18.5 21.  19.5 20.5 22.  19.  22.5 19.  20.  19.5 21.\n",
      " 20.  21.  22.5 21.5 20.8 22.5 16.  19.  20.  28.5 26.5 21.5 21.  21.\n",
      " 21.5 28.5 24.5 22.  18.  20.  24.  21.5 17.5 18.5 21.  25.  19.5 24.\n",
      " 21.  20.  23.5 20.  18.5 21.  20.  21.5 21.5 21.5 24.  22.  25.5 18.5\n",
      " 20.  22.  19.5 27.  25.  22.5 21.  20.  22.  18.5 22.  22.5 23.  19.5\n",
      " 24.5 25.  19.  19.5 20.  20.5 23.  20.  20.  24.5]\n"
     ]
    }
   ],
   "source": [
    "print (X)"
   ]
  },
  {
   "cell_type": "code",
   "execution_count": 58,
   "metadata": {},
   "outputs": [
    {
     "data": {
      "text/plain": [
       "Text(0, 0.5, 'Value')"
      ]
     },
     "execution_count": 58,
     "metadata": {},
     "output_type": "execute_result"
    },
    {
     "data": {
      "image/png": "[encoded data removed]",
      "text/plain": [
       "<Figure size 576x288 with 1 Axes>"
      ]
     },
     "metadata": {
      "needs_background": "light"
     },
     "output_type": "display_data"
    }
   ],
   "source": [
    "y = wine.target\n",
    "\n",
    "fig, axes = plt.subplots(1,1,figsize=(8,4))\n",
    "axes = plt.scatter(X[:], wine.data[:,2])\n",
    "plt.xlabel( \"Unit\")\n",
    "plt.ylabel(\"Value\", fontsize=14)\n"
   ]
  },
  {
   "cell_type": "code",
   "execution_count": 77,
   "metadata": {},
   "outputs": [
    {
     "name": "stdout",
     "output_type": "stream",
     "text": [
      "[0 0 2 0 2 0 0 0 0 0 2 0 0 0 0 0 2 2 0 0 0 2 0 2 2 1 0 0 2 0 1 2 0 2 2 2 0\n",
      " 2 0 0 0 2 0 0 0 2 0 0 2 0 0 0 0 0 0 2 0 0 0 0 0 0 2 2 2 2 0 2 0 0 2 1 1 1\n",
      " 2 0 0 2 0 1 2 2 1 1 2 2 1 1 2 1 2 1 2 2 2 2 2 0 2 2 0 2 2 2 2 1 2 1 2 2 2\n",
      " 2 2 2 1 2 2 1 0 2 2 1 1 2 2 2 2 1 1 1 2 2 1 2 0 2 2 1 2 1 2 2 1 2 2 2 2 2\n",
      " 2 2 1 1 1 2 2 1 2 1 1 1 2 2 1 2 1 1 1 2 1 1 2 2 2 2 1 2 2 1]\n"
     ]
    }
   ],
   "source": [
    "kmeans = KMeans(n_clusters = 3).fit(X.reshape(-1,1))\n",
    "label = kmeans.labels_\n",
    "print(label)"
   ]
  },
  {
   "cell_type": "code",
   "execution_count": 81,
   "metadata": {},
   "outputs": [
    {
     "data": {
      "text/plain": [
       "0.10085404095176718"
      ]
     },
     "execution_count": 81,
     "metadata": {},
     "output_type": "execute_result"
    }
   ],
   "source": [
    "adjusted_rand_score(X, label)"
   ]
  },
  {
   "cell_type": "code",
   "execution_count": null,
   "metadata": {},
   "outputs": [],
   "source": []
  }
 ],
 "metadata": {
  "kernelspec": {
   "display_name": "Python 3",
   "language": "python",
   "name": "python3"
  },
  "language_info": {
   "codemirror_mode": {
    "name": "ipython",
    "version": 3
   },
   "file_extension": ".py",
   "mimetype": "text/x-python",
   "name": "python",
   "nbconvert_exporter": "python",
   "pygments_lexer": "ipython3",
   "version": "3.7.3"
  }
 },
 "nbformat": 4,
 "nbformat_minor": 2
}
